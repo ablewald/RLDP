{
 "cells": [
  {
   "cell_type": "code",
   "execution_count": null,
   "metadata": {
    "scrolled": true
   },
   "outputs": [],
   "source": [
    "import sys\n",
    "sys.executable"
   ]
  },
  {
   "cell_type": "code",
   "execution_count": 1,
   "metadata": {},
   "outputs": [],
   "source": [
    "import requests\n",
    "import json\n",
    "import pandas\n",
    "import csv\n",
    "from data.calculatedgg_api.api_interfacer import CalculatedApiInterfacer\n",
    "\n",
    "\n",
    "class ReplayScraper:\n",
    "    \n",
    "    BASE_URL = 'https://calculated.gg/api/'\n",
    "\n",
    "\n",
    "    def get_replay_meta(self, replay_id):\n",
    "        response = requests.get(self.BASE_URL + 'replay/' + replay_id)\n",
    "        return json.loads(response.text)\n",
    "\n",
    "\n",
    "    def get_basic_player_stats(self, replay_id):\n",
    "        response = requests.get(self.BASE_URL + 'replay/' + replay_id + '/basic_player_stats')\n",
    "        return json.loads(response.text)\n",
    "\n",
    "    def get_replay_data(self, replay_id):\n",
    "        rp_meta = self.get_replay_meta(replay_id)\n",
    "        player_stats = self.get_basic_player_stats(replay_id)\n",
    "        rp_meta['player_stats'] = player_stats\n",
    "        return self.format_data(rp_meta)\n",
    "\n",
    "    @staticmethod\n",
    "    def format_data(r):\n",
    "        players = r['players']\n",
    "        player_data = {}\n",
    "        winner = ReplayScraper.winning_team(r['gameScore'])\n",
    "\n",
    "        for player in players:\n",
    "            player_data[player['name']] = {'name': player['name']}\n",
    "            player_data[player['name']]['isOrange'] = player['isOrange']\n",
    "            player_data[player['name']]['won'] = ReplayScraper.player_team(player['isOrange']) == winner\n",
    "            player_data[player['name']]['game_id'] = r['id']\n",
    "            player_data[player['name']]['game_type'] = r['gameMode']\n",
    "        for stat in r['player_stats']:\n",
    "            for player_stat in stat['chartDataPoints']:\n",
    "                player_data[player_stat['name']][stat['title']] = player_stat['value']\n",
    "\n",
    "        return [player_data[i] for i in player_data]\n",
    "\n",
    "    @staticmethod\n",
    "    def winning_team(game_score):\n",
    "        if game_score['team0Score'] > game_score['team1Score']:\n",
    "            return 'Blue'\n",
    "        else:\n",
    "            return 'Orange'\n",
    "    \n",
    "    @staticmethod\n",
    "    def player_team(is_orange):\n",
    "        if is_orange:\n",
    "            return 'Orange'\n",
    "        else:\n",
    "            return 'Blue'\n"
   ]
  },
  {
   "cell_type": "code",
   "execution_count": 2,
   "metadata": {},
   "outputs": [],
   "source": [
    "columns = [\n",
    "    'name',\n",
    "    'game_id',\n",
    "    'game_type',\n",
    "    'isOrange',\n",
    "    'won',\n",
    "    'average hit distance',\n",
    "    'ball hit forward',\n",
    "    'dribbles',\n",
    "    'passes',\n",
    "    'time close to ball',\n",
    "    'time closest to ball',\n",
    "    'time furthest from ball',\n",
    "    'time behind ball',\n",
    "    'time in front ball',\n",
    "    'time high in air',\n",
    "    'time low in air',\n",
    "    'time on ground',\n",
    "    'time in defending third',\n",
    "    'time in neutral third',\n",
    "    'time in attacking third',\n",
    "    'time in defending half',\n",
    "    'time in attacking half',\n",
    "    'time in corner',\n",
    "    'time most forward player',\n",
    "    'time between players',\n",
    "    'time most back player',\n",
    "    'time near wall',\n",
    "    'time in front of center of mass',\n",
    "    'time behind center of mass',\n",
    "    'speed',\n",
    "    'possession time',\n",
    "    'turnovers',\n",
    "    'turnovers on my half',\n",
    "    'turnovers on their half',\n",
    "    'wasted collection',\n",
    "    'num small boosts',\n",
    "    'num large boosts',\n",
    "    'boost ratio',\n",
    "    'used boost efficiency',\n",
    "    'turnover efficiency',\n",
    "    'shot %',\n",
    "    'useful/hits',\n",
    "    'time at boost speed',\n",
    "    'time at slow speed',\n",
    "    'time at super sonic',\n",
    "    'boost usage',\n",
    "    'num stolen boosts',\n",
    "    'time low boost',\n",
    "    'time no boost',\n",
    "    'collection boost efficiency',\n",
    "    'total boost efficiency',\n",
    "    'aerial efficiency',\n",
    "    'aerials',\n",
    "]"
   ]
  },
  {
   "cell_type": "code",
   "execution_count": 3,
   "metadata": {},
   "outputs": [],
   "source": [
    "cai = CalculatedApiInterfacer()\n",
    "replay_list = cai.get_all_replay_ids(limit=5)\n",
    "rs = ReplayScraper()\n",
    "replay = 'CF2380014980DDA15AB03A96E71D2D7A'"
   ]
  },
  {
   "cell_type": "code",
   "execution_count": null,
   "metadata": {},
   "outputs": [],
   "source": []
  },
  {
   "cell_type": "code",
   "execution_count": 4,
   "metadata": {},
   "outputs": [],
   "source": [
    "replay_data = rs.get_replay_data('CF2380014980DDA15AB03A96E71D2D7A')"
   ]
  },
  {
   "cell_type": "code",
   "execution_count": null,
   "metadata": {},
   "outputs": [],
   "source": []
  },
  {
   "cell_type": "code",
   "execution_count": 5,
   "metadata": {},
   "outputs": [
    {
     "ename": "UnicodeEncodeError",
     "evalue": "'charmap' codec can't encode characters in position 10-16: character maps to <undefined>",
     "output_type": "error",
     "traceback": [
      "\u001b[1;31m---------------------------------------------------------------------------\u001b[0m",
      "\u001b[1;31mUnicodeEncodeError\u001b[0m                        Traceback (most recent call last)",
      "\u001b[1;32m<ipython-input-5-20cbd0d89dc8>\u001b[0m in \u001b[0;36m<module>\u001b[1;34m\u001b[0m\n\u001b[0;32m      5\u001b[0m         \u001b[0mreplay_data\u001b[0m \u001b[1;33m=\u001b[0m \u001b[0mrs\u001b[0m\u001b[1;33m.\u001b[0m\u001b[0mget_replay_data\u001b[0m\u001b[1;33m(\u001b[0m\u001b[0mreplay_id\u001b[0m\u001b[1;33m)\u001b[0m\u001b[1;33m\u001b[0m\u001b[1;33m\u001b[0m\u001b[0m\n\u001b[0;32m      6\u001b[0m         \u001b[1;32mfor\u001b[0m \u001b[0mplayer_data\u001b[0m \u001b[1;32min\u001b[0m \u001b[0mreplay_data\u001b[0m\u001b[1;33m:\u001b[0m\u001b[1;33m\u001b[0m\u001b[1;33m\u001b[0m\u001b[0m\n\u001b[1;32m----> 7\u001b[1;33m             \u001b[0mwriter\u001b[0m\u001b[1;33m.\u001b[0m\u001b[0mwriterow\u001b[0m\u001b[1;33m(\u001b[0m\u001b[0mplayer_data\u001b[0m\u001b[1;33m)\u001b[0m\u001b[1;33m\u001b[0m\u001b[1;33m\u001b[0m\u001b[0m\n\u001b[0m",
      "\u001b[1;32m~\\Anaconda3\\lib\\csv.py\u001b[0m in \u001b[0;36mwriterow\u001b[1;34m(self, rowdict)\u001b[0m\n\u001b[0;32m    153\u001b[0m \u001b[1;33m\u001b[0m\u001b[0m\n\u001b[0;32m    154\u001b[0m     \u001b[1;32mdef\u001b[0m \u001b[0mwriterow\u001b[0m\u001b[1;33m(\u001b[0m\u001b[0mself\u001b[0m\u001b[1;33m,\u001b[0m \u001b[0mrowdict\u001b[0m\u001b[1;33m)\u001b[0m\u001b[1;33m:\u001b[0m\u001b[1;33m\u001b[0m\u001b[1;33m\u001b[0m\u001b[0m\n\u001b[1;32m--> 155\u001b[1;33m         \u001b[1;32mreturn\u001b[0m \u001b[0mself\u001b[0m\u001b[1;33m.\u001b[0m\u001b[0mwriter\u001b[0m\u001b[1;33m.\u001b[0m\u001b[0mwriterow\u001b[0m\u001b[1;33m(\u001b[0m\u001b[0mself\u001b[0m\u001b[1;33m.\u001b[0m\u001b[0m_dict_to_list\u001b[0m\u001b[1;33m(\u001b[0m\u001b[0mrowdict\u001b[0m\u001b[1;33m)\u001b[0m\u001b[1;33m)\u001b[0m\u001b[1;33m\u001b[0m\u001b[1;33m\u001b[0m\u001b[0m\n\u001b[0m\u001b[0;32m    156\u001b[0m \u001b[1;33m\u001b[0m\u001b[0m\n\u001b[0;32m    157\u001b[0m     \u001b[1;32mdef\u001b[0m \u001b[0mwriterows\u001b[0m\u001b[1;33m(\u001b[0m\u001b[0mself\u001b[0m\u001b[1;33m,\u001b[0m \u001b[0mrowdicts\u001b[0m\u001b[1;33m)\u001b[0m\u001b[1;33m:\u001b[0m\u001b[1;33m\u001b[0m\u001b[1;33m\u001b[0m\u001b[0m\n",
      "\u001b[1;32m~\\Anaconda3\\lib\\encodings\\cp1252.py\u001b[0m in \u001b[0;36mencode\u001b[1;34m(self, input, final)\u001b[0m\n\u001b[0;32m     17\u001b[0m \u001b[1;32mclass\u001b[0m \u001b[0mIncrementalEncoder\u001b[0m\u001b[1;33m(\u001b[0m\u001b[0mcodecs\u001b[0m\u001b[1;33m.\u001b[0m\u001b[0mIncrementalEncoder\u001b[0m\u001b[1;33m)\u001b[0m\u001b[1;33m:\u001b[0m\u001b[1;33m\u001b[0m\u001b[1;33m\u001b[0m\u001b[0m\n\u001b[0;32m     18\u001b[0m     \u001b[1;32mdef\u001b[0m \u001b[0mencode\u001b[0m\u001b[1;33m(\u001b[0m\u001b[0mself\u001b[0m\u001b[1;33m,\u001b[0m \u001b[0minput\u001b[0m\u001b[1;33m,\u001b[0m \u001b[0mfinal\u001b[0m\u001b[1;33m=\u001b[0m\u001b[1;32mFalse\u001b[0m\u001b[1;33m)\u001b[0m\u001b[1;33m:\u001b[0m\u001b[1;33m\u001b[0m\u001b[1;33m\u001b[0m\u001b[0m\n\u001b[1;32m---> 19\u001b[1;33m         \u001b[1;32mreturn\u001b[0m \u001b[0mcodecs\u001b[0m\u001b[1;33m.\u001b[0m\u001b[0mcharmap_encode\u001b[0m\u001b[1;33m(\u001b[0m\u001b[0minput\u001b[0m\u001b[1;33m,\u001b[0m\u001b[0mself\u001b[0m\u001b[1;33m.\u001b[0m\u001b[0merrors\u001b[0m\u001b[1;33m,\u001b[0m\u001b[0mencoding_table\u001b[0m\u001b[1;33m)\u001b[0m\u001b[1;33m[\u001b[0m\u001b[1;36m0\u001b[0m\u001b[1;33m]\u001b[0m\u001b[1;33m\u001b[0m\u001b[1;33m\u001b[0m\u001b[0m\n\u001b[0m\u001b[0;32m     20\u001b[0m \u001b[1;33m\u001b[0m\u001b[0m\n\u001b[0;32m     21\u001b[0m \u001b[1;32mclass\u001b[0m \u001b[0mIncrementalDecoder\u001b[0m\u001b[1;33m(\u001b[0m\u001b[0mcodecs\u001b[0m\u001b[1;33m.\u001b[0m\u001b[0mIncrementalDecoder\u001b[0m\u001b[1;33m)\u001b[0m\u001b[1;33m:\u001b[0m\u001b[1;33m\u001b[0m\u001b[1;33m\u001b[0m\u001b[0m\n",
      "\u001b[1;31mUnicodeEncodeError\u001b[0m: 'charmap' codec can't encode characters in position 10-16: character maps to <undefined>"
     ]
    }
   ],
   "source": [
    "with open('/Users/alecl/Desktop/test.csv', 'w') as f:\n",
    "    writer = csv.DictWriter(f, fieldnames=columns)\n",
    "    writer.writeheader()\n",
    "    for replay_id in replay_list:\n",
    "        replay_data = rs.get_replay_data(replay_id)\n",
    "        for player_data in replay_data:\n",
    "            writer.writerow(player_data)\n"
   ]
  },
  {
   "cell_type": "code",
   "execution_count": null,
   "metadata": {},
   "outputs": [],
   "source": []
  }
 ],
 "metadata": {
  "kernelspec": {
   "display_name": "Python 3",
   "language": "python",
   "name": "python3"
  },
  "language_info": {
   "codemirror_mode": {
    "name": "ipython",
    "version": 3
   },
   "file_extension": ".py",
   "mimetype": "text/x-python",
   "name": "python",
   "nbconvert_exporter": "python",
   "pygments_lexer": "ipython3",
   "version": "3.7.2"
  }
 },
 "nbformat": 4,
 "nbformat_minor": 2
}
